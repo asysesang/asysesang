{
 "cells": [
  {
   "cell_type": "markdown",
   "metadata": {},
   "source": [
    "61. 입력 값들의 평균 구하기. (첫 번째 값 0이면 에러)"
   ]
  },
  {
   "cell_type": "code",
   "execution_count": 1,
   "metadata": {
    "scrolled": true
   },
   "outputs": [
    {
     "name": "stdout",
     "output_type": "stream",
     "text": [
      "2\n",
      "4\n",
      "6\n",
      "0\n",
      "4.0\n"
     ]
    }
   ],
   "source": [
    "num_list = []\n",
    "while True :\n",
    "    a = int(input())\n",
    "    num_list.append(a)\n",
    "    if num_list[0]==0:\n",
    "        print(\"첫번째 값은 0이 될 수 없습니다.\")\n",
    "    else : \n",
    "        if a==0:\n",
    "            break\n",
    "        else :\n",
    "            avg_num = sum(num_list)/len(num_list) \n",
    "print(avg_num)\n",
    "    "
   ]
  },
  {
   "cell_type": "markdown",
   "metadata": {},
   "source": [
    "63. 섭씨온도, 화씨온도 변환테이블 만들기."
   ]
  },
  {
   "cell_type": "code",
   "execution_count": 2,
   "metadata": {},
   "outputs": [
    {
     "name": "stdout",
     "output_type": "stream",
     "text": [
      "1 33.8\n",
      "2 35.6\n",
      "3 37.4\n",
      "4 39.2\n",
      "5 41.0\n",
      "6 42.8\n",
      "7 44.6\n",
      "8 46.4\n",
      "9 48.2\n",
      "10 50.0\n",
      "11 51.8\n",
      "12 53.6\n",
      "13 55.400000000000006\n",
      "14 57.2\n",
      "15 59.0\n",
      "16 60.8\n",
      "17 62.6\n",
      "18 64.4\n",
      "19 66.2\n",
      "20 68.0\n",
      "21 69.80000000000001\n",
      "22 71.6\n",
      "23 73.4\n",
      "24 75.2\n",
      "25 77.0\n",
      "26 78.80000000000001\n",
      "27 80.6\n",
      "28 82.4\n",
      "29 84.2\n",
      "30 86.0\n",
      "31 87.80000000000001\n",
      "32 89.6\n",
      "33 91.4\n",
      "34 93.2\n",
      "35 95.0\n",
      "36 96.8\n",
      "37 98.60000000000001\n",
      "38 100.4\n",
      "39 102.2\n",
      "40 104.0\n",
      "41 105.8\n",
      "42 107.60000000000001\n",
      "43 109.4\n",
      "44 111.2\n",
      "45 113.0\n",
      "46 114.8\n",
      "47 116.60000000000001\n",
      "48 118.4\n",
      "49 120.2\n",
      "50 122.0\n",
      "51 123.8\n",
      "52 125.60000000000001\n",
      "53 127.4\n",
      "54 129.2\n",
      "55 131.0\n",
      "56 132.8\n",
      "57 134.60000000000002\n",
      "58 136.4\n",
      "59 138.2\n",
      "60 140.0\n",
      "61 141.8\n",
      "62 143.60000000000002\n",
      "63 145.4\n",
      "64 147.2\n",
      "65 149.0\n",
      "66 150.8\n",
      "67 152.60000000000002\n",
      "68 154.4\n",
      "69 156.2\n",
      "70 158.0\n",
      "71 159.8\n",
      "72 161.6\n",
      "73 163.4\n",
      "74 165.20000000000002\n",
      "75 167.0\n",
      "76 168.8\n",
      "77 170.6\n",
      "78 172.4\n",
      "79 174.20000000000002\n",
      "80 176.0\n",
      "81 177.8\n",
      "82 179.6\n",
      "83 181.4\n",
      "84 183.20000000000002\n",
      "85 185.0\n",
      "86 186.8\n",
      "87 188.6\n",
      "88 190.4\n",
      "89 192.20000000000002\n",
      "90 194.0\n",
      "91 195.8\n",
      "92 197.6\n",
      "93 199.4\n",
      "94 201.20000000000002\n",
      "95 203.0\n",
      "96 204.8\n",
      "97 206.6\n",
      "98 208.4\n",
      "99 210.20000000000002\n",
      "100 212.0\n"
     ]
    }
   ],
   "source": [
    "for i in range (1,101):\n",
    "    f = (9/5)*i +32\n",
    "    print(i,f) "
   ]
  },
  {
   "cell_type": "markdown",
   "metadata": {},
   "source": [
    "66. 학점평균 구하기."
   ]
  },
  {
   "cell_type": "code",
   "execution_count": 3,
   "metadata": {},
   "outputs": [
    {
     "name": "stdout",
     "output_type": "stream",
     "text": [
      "A+\n",
      "B+\n",
      "D+\n",
      "A\n",
      "B-\n",
      " \n",
      "3.06\n"
     ]
    }
   ],
   "source": [
    "grade_list = []\n",
    "grade = {'A+':4.0,'A':4.0,'A-':3.7,'B+':3.3,'B':3.0,'B-':2.7,'C+':2.3,'C':2.0,'C-':1.7,'D+':1.3,'D':1.0,'F':0}\n",
    "while True :\n",
    "    a = input()\n",
    "    if a == ' ':\n",
    "        break\n",
    "    else:\n",
    "        grade_list.append(grade[a])\n",
    "        \n",
    "print(sum(grade_list)/len(grade_list)) "
   ]
  },
  {
   "cell_type": "markdown",
   "metadata": {},
   "source": [
    "67. 조건에 따른 입장료 구하기."
   ]
  },
  {
   "cell_type": "code",
   "execution_count": 4,
   "metadata": {},
   "outputs": [
    {
     "name": "stdout",
     "output_type": "stream",
     "text": [
      "1\n",
      "5\n",
      "23\n",
      "70\n",
      " \n",
      "53\n"
     ]
    }
   ],
   "source": [
    "price_list = []\n",
    "while True :\n",
    "    a = input()\n",
    "    if a == ' ':\n",
    "        break\n",
    "    else : \n",
    "        b = int(a)\n",
    "        if b <=2 :\n",
    "            price = 0\n",
    "        elif b<=12 :\n",
    "            price = 12\n",
    "        elif b <= 64:\n",
    "            price = 23\n",
    "        else :\n",
    "            price = 18\n",
    "        price_list.append(price)\n",
    "print(sum(price_list))  "
   ]
  },
  {
   "cell_type": "markdown",
   "metadata": {},
   "source": [
    "72.회문 판단하기."
   ]
  },
  {
   "cell_type": "code",
   "execution_count": 5,
   "metadata": {
    "scrolled": true
   },
   "outputs": [
    {
     "name": "stdout",
     "output_type": "stream",
     "text": [
      "asa\n",
      "True\n"
     ]
    }
   ],
   "source": [
    "a = input()\n",
    "\n",
    "for i in range(len(a)//2):\n",
    "    if a[i] != a[-1-i]:\n",
    "        result = 'False'\n",
    "    else :\n",
    "        result = 'True'\n",
    "        \n",
    "print(result)        "
   ]
  },
  {
   "cell_type": "markdown",
   "metadata": {},
   "source": [
    "75. 최대공약수 구하기."
   ]
  },
  {
   "cell_type": "code",
   "execution_count": 6,
   "metadata": {
    "scrolled": true
   },
   "outputs": [
    {
     "data": {
      "text/plain": [
       "4"
      ]
     },
     "execution_count": 6,
     "metadata": {},
     "output_type": "execute_result"
    }
   ],
   "source": [
    "def gcd(a,b):\n",
    "    if a < b :\n",
    "        (a,b)= (b,a)\n",
    "    while b != 0:   \n",
    "        (a,b)= (b,a%b)\n",
    "    return a  \n",
    "\n",
    "gcd(4,12)"
   ]
  },
  {
   "cell_type": "markdown",
   "metadata": {},
   "source": [
    "77. 2진수를 10진수로 변환하기."
   ]
  },
  {
   "cell_type": "code",
   "execution_count": 7,
   "metadata": {},
   "outputs": [
    {
     "name": "stdout",
     "output_type": "stream",
     "text": [
      "1011\n",
      "11\n"
     ]
    }
   ],
   "source": [
    "a=list(input())\n",
    "result = []\n",
    "for i in range(len(a)):\n",
    "    result.insert(i,int(a[i])*2**(len(a)-i-1))\n",
    "print(sum(result)) "
   ]
  }
 ],
 "metadata": {
  "kernelspec": {
   "display_name": "Python 3",
   "language": "python",
   "name": "python3"
  },
  "language_info": {
   "codemirror_mode": {
    "name": "ipython",
    "version": 3
   },
   "file_extension": ".py",
   "mimetype": "text/x-python",
   "name": "python",
   "nbconvert_exporter": "python",
   "pygments_lexer": "ipython3",
   "version": "3.6.5"
  }
 },
 "nbformat": 4,
 "nbformat_minor": 2
}

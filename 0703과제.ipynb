{
 "cells": [
  {
   "cell_type": "markdown",
   "metadata": {},
   "source": [
    "104"
   ]
  },
  {
   "cell_type": "code",
   "execution_count": 1,
   "metadata": {
    "scrolled": true
   },
   "outputs": [
    {
     "name": "stdout",
     "output_type": "stream",
     "text": [
      "4\n",
      "6\n",
      "2\n",
      "3\n",
      "9\n",
      "0\n",
      "[2, 3, 4, 6, 9]\n"
     ]
    }
   ],
   "source": [
    "a = []\n",
    "while True :\n",
    "    b = int(input())\n",
    "    if b != 0:\n",
    "        a.append(b)\n",
    "    else :\n",
    "        print(sorted(a))\n",
    "        break"
   ]
  },
  {
   "cell_type": "markdown",
   "metadata": {},
   "source": [
    "105"
   ]
  },
  {
   "cell_type": "code",
   "execution_count": 2,
   "metadata": {},
   "outputs": [
    {
     "name": "stdout",
     "output_type": "stream",
     "text": [
      "4\n",
      "6\n",
      "2\n",
      "9\n",
      "6\n",
      "1\n",
      "0\n",
      "[1, 6, 9, 2, 6, 4]\n"
     ]
    }
   ],
   "source": [
    "a = []\n",
    "b = []\n",
    "while True :\n",
    "    c = int(input())\n",
    "    if c != 0:\n",
    "        a.append(c)\n",
    "        n = len(a)\n",
    "    else :\n",
    "        break\n",
    "for i in range(len(a)):\n",
    "    b.append(a[n-i-1])\n",
    "print(b)"
   ]
  },
  {
   "cell_type": "markdown",
   "metadata": {},
   "source": [
    "106"
   ]
  },
  {
   "cell_type": "code",
   "execution_count": 4,
   "metadata": {},
   "outputs": [
    {
     "name": "stdout",
     "output_type": "stream",
     "text": [
      "3729154\n",
      "['3', '7', '2', '9', '1', '5', '4']\n",
      "['3', '4', '5']\n"
     ]
    }
   ],
   "source": [
    "a = list(input())#리스트 받는게 이상함.\n",
    "\n",
    "def removefun(orilist):\n",
    "    b = sorted(orilist)\n",
    "    lenb = len(b)\n",
    "    if lenb<4:\n",
    "        print(\"4개이상 입력하세요\")\n",
    "    else:\n",
    "        del b[lenb-1]\n",
    "        del b[lenb-2]\n",
    "        del b[0]\n",
    "        del b[0]\n",
    "        print(a)\n",
    "        print(b)\n",
    "\n",
    "removefun(a)\n"
   ]
  },
  {
   "cell_type": "markdown",
   "metadata": {},
   "source": [
    "107"
   ]
  },
  {
   "cell_type": "code",
   "execution_count": 5,
   "metadata": {},
   "outputs": [
    {
     "name": "stdout",
     "output_type": "stream",
     "text": [
      "가가\n",
      "가나\n",
      "다라\n",
      "가나\n",
      "마바\n",
      "다라\n",
      " \n",
      "{'마바', '가가', '가나', '다라'}\n"
     ]
    }
   ],
   "source": [
    "a = set([])\n",
    "while True :\n",
    "    b = input()\n",
    "    if b != \" \":\n",
    "        a.add(b)\n",
    "    else :\n",
    "        print(a)\n",
    "        break\n",
    "        \n",
    "        #입력순서대로 나오기???"
   ]
  },
  {
   "cell_type": "markdown",
   "metadata": {},
   "source": [
    "108"
   ]
  },
  {
   "cell_type": "code",
   "execution_count": null,
   "metadata": {},
   "outputs": [],
   "source": []
  }
 ],
 "metadata": {
  "kernelspec": {
   "display_name": "Python 3",
   "language": "python",
   "name": "python3"
  },
  "language_info": {
   "codemirror_mode": {
    "name": "ipython",
    "version": 3
   },
   "file_extension": ".py",
   "mimetype": "text/x-python",
   "name": "python",
   "nbconvert_exporter": "python",
   "pygments_lexer": "ipython3",
   "version": "3.6.5"
  }
 },
 "nbformat": 4,
 "nbformat_minor": 2
}
